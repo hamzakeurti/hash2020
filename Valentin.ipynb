{
 "cells": [
  {
   "cell_type": "code",
   "execution_count": 14,
   "metadata": {},
   "outputs": [],
   "source": [
    "import os.path as path\n",
    "import input,output,algos\n",
    "\n",
    "\n",
    "INPUT_DIR = 'inputs'\n",
    "INPUT_FILE = 'a_example.txt'\n",
    "filename = path.join(INPUT_DIR,INPUT_FILE)\n",
    "txt = input.parse_file(filename)"
   ]
  },
  {
   "cell_type": "code",
   "execution_count": 15,
   "metadata": {},
   "outputs": [
    {
     "data": {
      "text/plain": [
       "(6,\n",
       " 2,\n",
       " 7,\n",
       " [1, 2, 3, 6, 5, 4],\n",
       " [<input.Library at 0x1ec00062668>, <input.Library at 0x1ec00062518>])"
      ]
     },
     "execution_count": 15,
     "metadata": {},
     "output_type": "execute_result"
    }
   ],
   "source": [
    "txt"
   ]
  },
  {
   "cell_type": "code",
   "execution_count": null,
   "metadata": {},
   "outputs": [],
   "source": [
    "txt[4]"
   ]
  }
 ],
 "metadata": {
  "kernelspec": {
   "display_name": "Python 3",
   "language": "python",
   "name": "python3"
  },
  "language_info": {
   "codemirror_mode": {
    "name": "ipython",
    "version": 3
   },
   "file_extension": ".py",
   "mimetype": "text/x-python",
   "name": "python",
   "nbconvert_exporter": "python",
   "pygments_lexer": "ipython3",
   "version": "3.6.8"
  }
 },
 "nbformat": 4,
 "nbformat_minor": 2
}
