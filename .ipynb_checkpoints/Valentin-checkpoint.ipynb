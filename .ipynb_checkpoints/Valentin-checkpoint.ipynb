{
 "cells": [
  {
   "cell_type": "code",
   "execution_count": 14,
   "metadata": {},
   "outputs": [],
   "source": [
    "import os.path as path\n",
    "import input,output,algos\n",
    "\n",
    "\n",
    "INPUT_DIR = 'inputs'\n",
    "INPUT_FILE = 'a_example.txt'\n",
    "filename = path.join(INPUT_DIR,INPUT_FILE)\n",
    "txt = input.parse_file(filename)"
   ]
  },
  {
   "cell_type": "code",
   "execution_count": 15,
   "metadata": {},
   "outputs": [
    {
     "data": {
      "text/plain": [
       "(6,\n",
       " 2,\n",
       " 7,\n",
       " [1, 2, 3, 6, 5, 4],\n",
       " [<input.Library at 0x1ec00062668>, <input.Library at 0x1ec00062518>])"
      ]
     },
     "execution_count": 15,
     "metadata": {},
     "output_type": "execute_result"
    }
   ],
   "source": [
    "import os.path as path\n",
    "import input,output,algos\n",
    "\n",
    "\n",
    "INPUT_DIR = \"inputs\"\n",
    "INPUT_FILE = \"a_example.txt\"\n",
    "\n",
    "OUTPUT_DIR = \"outputs\"\n",
    "OUTPUT_FILE = \"solution\"\n",
    "\n",
    "\n",
    "# input\n",
    "filename = path.join(INPUT_DIR,INPUT_FILE)\n",
    "B,L,D,books_values,libraries = input.parse_file(filename)\n",
    "\n",
    "\n",
    "# algo\n",
    "# Finding greedily a sequence of libraries based on number of books that are not already in the previous libraries\n",
    "current_D = 0\n",
    "previous_libraries = {}\n",
    "selected_libraries = []\n",
    "\n",
    "while current_D<D:\n",
    "    best_score = -1\n",
    "\n",
    "    for library in libraries:\n",
    "        library_score = algos.Library_score(Library,previous_libraries,D,current_D)\n",
    "        if library_score > best_score:\n",
    "            best_score = library_score\n",
    "            best_library = library\n",
    "\n",
    "    current_D += best_library.signup\n",
    "\n",
    "    for book in library.books_list:\n",
    "        previous_libraries[book] = 0\n",
    "        \n",
    "    selected_libraries.append(best_library)\n",
    "    libraries.remove(best_library)\n",
    "\n",
    "# output\n"
   ]
  }
 ],
 "metadata": {
  "kernelspec": {
   "display_name": "Python 3",
   "language": "python",
   "name": "python3"
  },
  "language_info": {
   "codemirror_mode": {
    "name": "ipython",
    "version": 3
   },
   "file_extension": ".py",
   "mimetype": "text/x-python",
   "name": "python",
   "nbconvert_exporter": "python",
   "pygments_lexer": "ipython3",
   "version": "3.6.8"
  }
 },
 "nbformat": 4,
 "nbformat_minor": 2
}
